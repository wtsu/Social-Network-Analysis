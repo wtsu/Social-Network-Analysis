{
 "cells": [
  {
   "cell_type": "markdown",
   "metadata": {},
   "source": [
    "# Objective:  Analyze an internal email network of employees and determine which nodes need to be removed to disrupt information flow\n",
    "\n",
    "I will go through the process of importing and analyzing an internal email communication network between employees of a mid-sized manufacturing company. \n",
    "Each node represents an employee and each directed edge between two nodes represents an individual email. The left node represents the sender and the right node represents the recipient."
   ]
  },
  {
   "cell_type": "code",
   "execution_count": 1,
   "metadata": {},
   "outputs": [],
   "source": [
    "import networkx as nx"
   ]
  },
  {
   "cell_type": "code",
   "execution_count": 2,
   "metadata": {},
   "outputs": [],
   "source": [
    "def plot_graph(G, weight_name=None):   \n",
    "    '''\n",
    "    G: a networkx G\n",
    "    weight_name: name of the attribute for plotting edge weights (if G is weighted)\n",
    "    '''\n",
    "    %matplotlib notebook\n",
    "    import matplotlib.pyplot as plt\n",
    "    \n",
    "    plt.figure()\n",
    "    pos = nx.spring_layout(G)\n",
    "    edges = G.edges()\n",
    "    weights = None\n",
    "    \n",
    "    if weight_name:\n",
    "        weights = [int(G[u][v][weight_name]) for u,v in edges]\n",
    "        labels = nx.get_edge_attributes(G,weight_name)\n",
    "        nx.draw_networkx_edge_labels(G,pos,edge_labels=labels)\n",
    "        nx.draw_networkx(G, pos, edges=edges, width=weights);\n",
    "    else:\n",
    "        nx.draw_networkx(G, pos, edges=edges);"
   ]
  },
  {
   "cell_type": "markdown",
   "metadata": {},
   "source": [
    "### Step 1\n",
    "\n",
    "Using networkx, load up the directed multigraph from `email_network.txt`. The node names are strings.\n",
    "\n",
    "*This function returns a directed multigraph networkx graph.*"
   ]
  },
  {
   "cell_type": "code",
   "execution_count": 3,
   "metadata": {},
   "outputs": [],
   "source": [
    "def step_one():\n",
    "    \n",
    "    G = nx.read_edgelist(\"email_network.txt\", delimiter = '\\t', data = [('timestamp', int)], create_using=nx.MultiDiGraph())\n",
    "    \n",
    "    return G"
   ]
  },
  {
   "cell_type": "markdown",
   "metadata": {},
   "source": [
    "### Step 2\n",
    "\n",
    "Determine the number employees and emails represented in the graph from Step 1\n",
    "\n",
    "*This function returns a tuple (#employees, #emails).*"
   ]
  },
  {
   "cell_type": "code",
   "execution_count": 4,
   "metadata": {},
   "outputs": [],
   "source": [
    "def step_two():\n",
    "        \n",
    "    G = step_one()\n",
    "    num_employees = len(G.nodes())\n",
    "    num_emails = len(G.edges())\n",
    "    answer = (num_employees,num_emails)\n",
    "    \n",
    "    return answer"
   ]
  },
  {
   "cell_type": "code",
   "execution_count": 5,
   "metadata": {},
   "outputs": [
    {
     "data": {
      "text/plain": [
       "(167, 82927)"
      ]
     },
     "execution_count": 5,
     "metadata": {},
     "output_type": "execute_result"
    }
   ],
   "source": [
    "step_two()"
   ]
  },
  {
   "cell_type": "markdown",
   "metadata": {},
   "source": [
    "### Step 3\n",
    "\n",
    "Part a: Assuming that information in this company can only be exchanged through email.\n",
    "\n",
    "    When an employee sends an email to another employee, a communication channel has been created, allowing the sender to provide information to the receiver, but not vice versa. \n",
    "\n",
    "    Based on the emails sent in the data I determine if it possible for information to go from every employee to every other employee.\n",
    "\n",
    "\n",
    "Part b: Assuming that a communication channel established by an email allows information to be exchanged both ways. \n",
    "\n",
    "    Based on the emails sent in the data I determine if it is possible for information to go from every employee to every other employee.\n",
    "\n",
    "\n",
    "*This function returns an answer in the form of a tuple of bools (parta, partb).*"
   ]
  },
  {
   "cell_type": "code",
   "execution_count": 6,
   "metadata": {},
   "outputs": [],
   "source": [
    "def step_three():\n",
    "    #a network that is strongly connected would mean that it is possible for information to go \n",
    "    #from every employee \"node\" to every other employee \"node\"\n",
    "    G = step_one()\n",
    "    pt_a_answer= nx.is_strongly_connected(G)\n",
    "\n",
    "    # a network is weakly connected if when the directional edges are turned into bidirectional edges\n",
    "    # all employee \"nodes\" are still connected to each other\n",
    "    # convert G to an undirected network\n",
    "    G_undirected = G.to_undirected()\n",
    "    pt_b_answer=nx.is_connected(G_undirected)\n",
    "\n",
    "    answer = (pt_a_answer,pt_b_answer)   \n",
    "    return answer"
   ]
  },
  {
   "cell_type": "code",
   "execution_count": 7,
   "metadata": {},
   "outputs": [
    {
     "data": {
      "text/plain": [
       "(False, True)"
      ]
     },
     "execution_count": 7,
     "metadata": {},
     "output_type": "execute_result"
    }
   ],
   "source": [
    "step_three()"
   ]
  },
  {
   "cell_type": "markdown",
   "metadata": {},
   "source": [
    "### Step 4\n",
    "\n",
    "I determine how many nodes are in the largest (in terms of nodes) weakly connected component.\n",
    "\n",
    "*This function returns an int.*"
   ]
  },
  {
   "cell_type": "code",
   "execution_count": 8,
   "metadata": {
    "scrolled": true
   },
   "outputs": [],
   "source": [
    "def step_four():    \n",
    "    G = step_one()\n",
    "\n",
    "    #break the network into its weakly_connected_components\n",
    "    wccs = nx.weakly_connected_components(G)\n",
    "\n",
    "    #return the wccs whose len is the largest\n",
    "    largest_wccs= max(wccs, key = len)\n",
    "\n",
    "    #get the size of the largest_wccs\n",
    "    answer = len(largest_wccs)\n",
    "    \n",
    "    return answer"
   ]
  },
  {
   "cell_type": "code",
   "execution_count": 9,
   "metadata": {},
   "outputs": [
    {
     "data": {
      "text/plain": [
       "167"
      ]
     },
     "execution_count": 9,
     "metadata": {},
     "output_type": "execute_result"
    }
   ],
   "source": [
    "step_four()"
   ]
  },
  {
   "cell_type": "markdown",
   "metadata": {},
   "source": [
    "### Step 5\n",
    "\n",
    "I determine the number of nodes in the largest (in terms of nodes) strongly connected component.\n",
    "\n",
    "*This function returns an int*"
   ]
  },
  {
   "cell_type": "code",
   "execution_count": 10,
   "metadata": {},
   "outputs": [],
   "source": [
    "def step_five():\n",
    "    G = step_one()\n",
    "    #seperate the network into it's strongly_connected_components(G)\n",
    "    sccs = nx.strongly_connected_components(G)\n",
    "    largest_sccs = max(sccs, key = len)\n",
    "    answer = len(largest_sccs)\n",
    "    return answer"
   ]
  },
  {
   "cell_type": "code",
   "execution_count": 11,
   "metadata": {},
   "outputs": [
    {
     "data": {
      "text/plain": [
       "126"
      ]
     },
     "execution_count": 11,
     "metadata": {},
     "output_type": "execute_result"
    }
   ],
   "source": [
    "step_five()"
   ]
  },
  {
   "cell_type": "markdown",
   "metadata": {},
   "source": [
    "### Step 6\n",
    "\n",
    "Using the NetworkX function strongly_connected_component_subgraphs, I find the subgraph of nodes in a largest strongly connected component. \n",
    "I call this graph G_sc.\n",
    "\n",
    "*This function returns a networkx MultiDiGraph named G_sc.*"
   ]
  },
  {
   "cell_type": "code",
   "execution_count": 12,
   "metadata": {},
   "outputs": [],
   "source": [
    "def step_six():\n",
    "        \n",
    "    G = step_one()\n",
    "    #generate the strongly connected component as subgraphs\n",
    "    scc_subs = nx.strongly_connected_component_subgraphs(G)\n",
    "\n",
    "    #get the largest of the strongly connected component subgraphs\n",
    "    G_sc = max(scc_subs, key = len)\n",
    "\n",
    "    answer = G_sc\n",
    "    \n",
    "    return answer"
   ]
  },
  {
   "cell_type": "code",
   "execution_count": 13,
   "metadata": {},
   "outputs": [
    {
     "data": {
      "text/plain": [
       "<networkx.classes.multidigraph.MultiDiGraph at 0x23067fb2b38>"
      ]
     },
     "execution_count": 13,
     "metadata": {},
     "output_type": "execute_result"
    }
   ],
   "source": [
    "step_six()"
   ]
  },
  {
   "cell_type": "markdown",
   "metadata": {},
   "source": [
    "### Step 7\n",
    "\n",
    "I determine the average distance between nodes in G_sc \n",
    "\n",
    "*This function returns a float.*"
   ]
  },
  {
   "cell_type": "code",
   "execution_count": 14,
   "metadata": {},
   "outputs": [],
   "source": [
    "def step_seven():\n",
    "        \n",
    "    G = step_six()\n",
    "    answer = nx.average_shortest_path_length(G)\n",
    "    \n",
    "    return answer"
   ]
  },
  {
   "cell_type": "code",
   "execution_count": 15,
   "metadata": {},
   "outputs": [
    {
     "data": {
      "text/plain": [
       "1.6461587301587302"
      ]
     },
     "execution_count": 15,
     "metadata": {},
     "output_type": "execute_result"
    }
   ],
   "source": [
    "step_seven()"
   ]
  },
  {
   "cell_type": "markdown",
   "metadata": {},
   "source": [
    "### Step 8\n",
    "\n",
    "I determine the largest possible distance between two employees in G_sc \n",
    "\n",
    "*This function returns an int.*"
   ]
  },
  {
   "cell_type": "code",
   "execution_count": 16,
   "metadata": {},
   "outputs": [],
   "source": [
    "def step_eight():\n",
    "        \n",
    "    G = step_six()\n",
    "\n",
    "    #the largest possible distance is the diameter of the network\n",
    "    answer = nx.diameter(G)\n",
    "    \n",
    "    return answer"
   ]
  },
  {
   "cell_type": "code",
   "execution_count": 17,
   "metadata": {},
   "outputs": [
    {
     "data": {
      "text/plain": [
       "3"
      ]
     },
     "execution_count": 17,
     "metadata": {},
     "output_type": "execute_result"
    }
   ],
   "source": [
    "step_eight()"
   ]
  },
  {
   "cell_type": "markdown",
   "metadata": {},
   "source": [
    "### Step 9\n",
    "\n",
    "I determine the set of nodes in G_sc with eccentricity equal to the diameter \n",
    "\n",
    "*This function returns a set of the node(s).*"
   ]
  },
  {
   "cell_type": "code",
   "execution_count": 18,
   "metadata": {},
   "outputs": [],
   "source": [
    "def step_nine():\n",
    "       \n",
    "    G = step_six()\n",
    "\n",
    "    #nodes's whose eccentricity is equal to the diameter is the same as finding the periphery\n",
    "    answer = set(nx.periphery(G))\n",
    "    \n",
    "    return answer"
   ]
  },
  {
   "cell_type": "code",
   "execution_count": 19,
   "metadata": {},
   "outputs": [
    {
     "data": {
      "text/plain": [
       "{'129', '134', '97'}"
      ]
     },
     "execution_count": 19,
     "metadata": {},
     "output_type": "execute_result"
    }
   ],
   "source": [
    "step_nine()"
   ]
  },
  {
   "cell_type": "markdown",
   "metadata": {},
   "source": [
    "### Step 10\n",
    "\n",
    "I determine the set of node(s) in G_sc with eccentricity equal to the radius \n",
    "\n",
    "*This function returns a set of the node(s).*"
   ]
  },
  {
   "cell_type": "code",
   "execution_count": 20,
   "metadata": {},
   "outputs": [],
   "source": [
    "def step_ten():\n",
    "        \n",
    "    # nodes whose eccentricity is equal to the radius is the same as finding the center\n",
    "    G = step_six()\n",
    "    answer = set(nx.center(G))\n",
    "    \n",
    "    return answer"
   ]
  },
  {
   "cell_type": "code",
   "execution_count": 21,
   "metadata": {},
   "outputs": [
    {
     "data": {
      "text/plain": [
       "{'38'}"
      ]
     },
     "execution_count": 21,
     "metadata": {},
     "output_type": "execute_result"
    }
   ],
   "source": [
    "step_ten()"
   ]
  },
  {
   "cell_type": "markdown",
   "metadata": {},
   "source": [
    "### Step 11\n",
    "\n",
    "I determine which node in G_sc is connected to the most other nodes by a shortest path of length equal to the diameter of G_sc \n",
    "\n",
    "I determine how many nodes are connected to this node \n",
    "\n",
    "\n",
    "*This function returns a tuple (name of node, number of satisfied connected nodes).*"
   ]
  },
  {
   "cell_type": "code",
   "execution_count": 22,
   "metadata": {},
   "outputs": [],
   "source": [
    "def step_eleven():\n",
    "        \n",
    "    G = step_six()\n",
    "\n",
    "    #get the diameter of G_sc\n",
    "    d = nx.diameter(G)\n",
    "\n",
    "    #nodes whose shortest path of length equals the diameter are the peripheries\n",
    "    peripheries = nx.periphery(G)\n",
    "\n",
    "    #initialize variables\n",
    "    max_count = -1\n",
    "    result_node = None\n",
    "\n",
    "    #go through each node in the periphery\n",
    "    for node in peripheries:\n",
    "        #calculate the shortest path lengths between the periphery node and all other nodes in the \n",
    "        #network\n",
    "        sp = nx.shortest_path_length(G, node)\n",
    "        #count how many times the shortest length path is the same as the diameter\n",
    "        #this counts how often a node is connected to other nodes whose distance between nodes\n",
    "        #is the same as the diameter\n",
    "        count = list(sp.values()).count(d)\n",
    "        #if the node in Step has more connections than the prior max_count, store this node\n",
    "        if count > max_count:\n",
    "            result_node = node\n",
    "            max_count = count\n",
    "\n",
    "    answer = (result_node, max_count)\n",
    "    \n",
    "    return answer"
   ]
  },
  {
   "cell_type": "code",
   "execution_count": 23,
   "metadata": {},
   "outputs": [
    {
     "data": {
      "text/plain": [
       "('97', 63)"
      ]
     },
     "execution_count": 23,
     "metadata": {},
     "output_type": "execute_result"
    }
   ],
   "source": [
    "step_eleven()"
   ]
  },
  {
   "cell_type": "markdown",
   "metadata": {},
   "source": [
    "### Step 12\n",
    "\n",
    "Suppose I want prevent communication from flowing to the node that I found in the previous Step from any node in the center of G_sc. I determine the smallest number of nodes I would need to remove from the graph\n",
    "\n",
    "*This function return an integer.*"
   ]
  },
  {
   "cell_type": "code",
   "execution_count": 24,
   "metadata": {},
   "outputs": [],
   "source": [
    "def step_twelve():\n",
    "        \n",
    "    G = step_six()\n",
    "\n",
    "    #calculate the center node\n",
    "    center = nx.center(G)[0]\n",
    "\n",
    "    #get the node from the previous Step\n",
    "    node = step_eleven()[0]\n",
    "\n",
    "    #return the number minimum set of nodes that disconnect between the center node and the target node\n",
    "    #this would prevent removing center nodes and previous Steps\n",
    "    answer = len(nx.minimum_node_cut(G, center, node))\n",
    "    \n",
    "    return answer"
   ]
  },
  {
   "cell_type": "code",
   "execution_count": 25,
   "metadata": {},
   "outputs": [
    {
     "data": {
      "text/plain": [
       "0"
      ]
     },
     "execution_count": 25,
     "metadata": {},
     "output_type": "execute_result"
    }
   ],
   "source": [
    "step_twelve()"
   ]
  },
  {
   "cell_type": "markdown",
   "metadata": {},
   "source": [
    "### Step 13\n",
    "\n",
    "I construct an undirected graph G_un using G_sc (I ignore the attributes).\n",
    "\n",
    "*This function returns a networkx Graph.*"
   ]
  },
  {
   "cell_type": "code",
   "execution_count": 26,
   "metadata": {},
   "outputs": [],
   "source": [
    "def step_thirteen():\n",
    "    G = step_six()\n",
    "\n",
    "    #construct and undirected graph\n",
    "    undir_subgraph = G.to_undirected()\n",
    "\n",
    "    #convert the undirected graph into a networkx graph\n",
    "    G_un = nx.Graph(undir_subgraph)\n",
    "\n",
    "    answer = G_un\n",
    "    \n",
    "    return answer"
   ]
  },
  {
   "cell_type": "code",
   "execution_count": 27,
   "metadata": {},
   "outputs": [
    {
     "data": {
      "text/plain": [
       "<networkx.classes.graph.Graph at 0x2306042e748>"
      ]
     },
     "execution_count": 27,
     "metadata": {},
     "output_type": "execute_result"
    }
   ],
   "source": [
    "step_thirteen()"
   ]
  },
  {
   "cell_type": "markdown",
   "metadata": {},
   "source": [
    "### Step 14\n",
    "\n",
    "I determine the transitivity and average clustering coefficient of graph G_un \n",
    "\n",
    "*This function returns a tuple (transitivity, avg clustering).*"
   ]
  },
  {
   "cell_type": "code",
   "execution_count": 28,
   "metadata": {},
   "outputs": [],
   "source": [
    "def step_fourteen():\n",
    "        \n",
    "    G = step_thirteen()\n",
    "\n",
    "    #get the transitivity\n",
    "    transitivity = nx.transitivity(G)\n",
    "\n",
    "    #get the average clustering coefficient\n",
    "    average_clustering = nx.average_clustering(G)\n",
    "\n",
    "    answer = (transitivity, average_clustering)\n",
    "    \n",
    "    return answer"
   ]
  },
  {
   "cell_type": "code",
   "execution_count": 29,
   "metadata": {},
   "outputs": [
    {
     "data": {
      "text/plain": [
       "(0.570111160700385, 0.697527243723142)"
      ]
     },
     "execution_count": 29,
     "metadata": {},
     "output_type": "execute_result"
    }
   ],
   "source": [
    "step_fourteen()"
   ]
  }
 ],
 "metadata": {
  "coursera": {
   "course_slug": "python-social-network-analysis",
   "graded_item_id": "jMCHR",
   "launcher_item_id": "7RsKp",
   "part_id": "E9gn5"
  },
  "kernelspec": {
   "display_name": "Python 3",
   "language": "python",
   "name": "python3"
  },
  "language_info": {
   "codemirror_mode": {
    "name": "ipython",
    "version": 3
   },
   "file_extension": ".py",
   "mimetype": "text/x-python",
   "name": "python",
   "nbconvert_exporter": "python",
   "pygments_lexer": "ipython3",
   "version": "3.6.4"
  },
  "varInspector": {
   "cols": {
    "lenName": 16,
    "lenType": 16,
    "lenVar": 40
   },
   "kernels_config": {
    "python": {
     "delete_cmd_postfix": "",
     "delete_cmd_prefix": "del ",
     "library": "var_list.py",
     "varRefreshCmd": "print(var_dic_list())"
    },
    "r": {
     "delete_cmd_postfix": ") ",
     "delete_cmd_prefix": "rm(",
     "library": "var_list.r",
     "varRefreshCmd": "cat(var_dic_list()) "
    }
   },
   "types_to_exclude": [
    "module",
    "function",
    "builtin_function_or_method",
    "instance",
    "_Feature"
   ],
   "window_display": false
  }
 },
 "nbformat": 4,
 "nbformat_minor": 2
}
